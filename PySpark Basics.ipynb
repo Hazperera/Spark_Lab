{
 "cells": [
  {
   "cell_type": "markdown",
   "id": "democratic-extreme",
   "metadata": {},
   "source": [
    "### PySpark Basics\n",
    "\n",
    "Spark is a data analytics framework created by a group of scientists at UC Berkeley, which is predominantly used for a bigdata processing. <br> PySpark is the Python API for Spark created for using Python along with Spark."
   ]
  },
  {
   "cell_type": "markdown",
   "id": "progressive-flashing",
   "metadata": {},
   "source": [
    "#### Setup environment"
   ]
  },
  {
   "cell_type": "code",
   "execution_count": 1,
   "id": "dressed-behalf",
   "metadata": {},
   "outputs": [
    {
     "name": "stdout",
     "output_type": "stream",
     "text": [
      "Requirement already satisfied: pyspark in /Users/hasaniperera/opt/anaconda3/lib/python3.8/site-packages (3.2.1)\n",
      "Requirement already satisfied: py4j==0.10.9.3 in /Users/hasaniperera/opt/anaconda3/lib/python3.8/site-packages (from pyspark) (0.10.9.3)\n"
     ]
    }
   ],
   "source": [
    "#install pyspark\n",
    "!pip install pyspark\n"
   ]
  },
  {
   "cell_type": "code",
   "execution_count": 2,
   "id": "alone-thursday",
   "metadata": {},
   "outputs": [],
   "source": [
    "#import pyspark\n",
    "import pyspark\n",
    "\n",
    "#import sparksession\n",
    "from pyspark.sql import SparkSession"
   ]
  },
  {
   "cell_type": "code",
   "execution_count": 3,
   "id": "broad-friendship",
   "metadata": {},
   "outputs": [],
   "source": [
    "#import necessary libraries\n",
    "from pyspark.sql.functions import *\n",
    "from pyspark.sql.types import StructField,StructType,TimestampType"
   ]
  },
  {
   "cell_type": "code",
   "execution_count": 4,
   "id": "numeric-wonder",
   "metadata": {},
   "outputs": [],
   "source": [
    "#create SparkSession and provide appName\n",
    "spark = SparkSession.builder.appName(\"pysparkbasics\").getOrCreate() "
   ]
  },
  {
   "cell_type": "markdown",
   "id": "brief-observer",
   "metadata": {},
   "source": [
    "#### Create a sample dataframe"
   ]
  },
  {
   "cell_type": "code",
   "execution_count": 5,
   "id": "loose-brother",
   "metadata": {},
   "outputs": [],
   "source": [
    "#customers dataframe\n",
    "c_list = [\n",
    "    [342,\"Emma\", \"Clarke\",\"Watford\"],\n",
    "    [567,\"James\", \"Thomas\",\"Durham\"],\n",
    "    [23,\"Gregson\",\"White\",\"Lampeter\"],\n",
    "    [45,\"Hannah\",\"Abernathy\",\"Colchester\"],]\n",
    "\n",
    "customers = spark.createDataFrame(c_list, [\"id\", \"first_name\", \"last_name\",\"city\"])"
   ]
  },
  {
   "cell_type": "code",
   "execution_count": 6,
   "id": "professional-secretariat",
   "metadata": {},
   "outputs": [
    {
     "name": "stdout",
     "output_type": "stream",
     "text": [
      "+---+----------+---------+----------+\n",
      "| id|first_name|last_name|      city|\n",
      "+---+----------+---------+----------+\n",
      "|342|      Emma|   Clarke|   Watford|\n",
      "|567|     James|   Thomas|    Durham|\n",
      "| 23|   Gregson|    White|  Lampeter|\n",
      "| 45|    Hannah|Abernathy|Colchester|\n",
      "+---+----------+---------+----------+\n",
      "\n"
     ]
    }
   ],
   "source": [
    "#show the top rows\n",
    "customers.show()"
   ]
  },
  {
   "cell_type": "code",
   "execution_count": 7,
   "id": "sought-frost",
   "metadata": {},
   "outputs": [
    {
     "name": "stdout",
     "output_type": "stream",
     "text": [
      "root\n",
      " |-- id: long (nullable = true)\n",
      " |-- first_name: string (nullable = true)\n",
      " |-- last_name: string (nullable = true)\n",
      " |-- city: string (nullable = true)\n",
      "\n"
     ]
    }
   ],
   "source": [
    "#show schema\n",
    "customers.printSchema()"
   ]
  },
  {
   "cell_type": "code",
   "execution_count": 8,
   "id": "brazilian-emission",
   "metadata": {},
   "outputs": [
    {
     "name": "stdout",
     "output_type": "stream",
     "text": [
      "+---+-------+---------+----------+\n",
      "| id|cust_id|     date|order_cost|\n",
      "+---+-------+---------+----------+\n",
      "|  2|    567|2021-5-10|       250|\n",
      "|  3|    567|2021-5-14|       100|\n",
      "|  4|     23|2021-5-23|        50|\n",
      "|  5|     45|2021-5-25|        80|\n",
      "|  6|    342|2021-5-30|        75|\n",
      "+---+-------+---------+----------+\n",
      "\n",
      "root\n",
      " |-- id: long (nullable = true)\n",
      " |-- cust_id: long (nullable = true)\n",
      " |-- date: string (nullable = true)\n",
      " |-- order_cost: long (nullable = true)\n",
      "\n"
     ]
    }
   ],
   "source": [
    "#orders dataframe\n",
    "o_list = [\n",
    "    [2, 567, '2021-5-10', 250 ],\n",
    "    [3, 567, '2021-5-14', 100 ],\n",
    "    [4, 23, '2021-5-23', 50 ],\n",
    "    [5, 45, '2021-5-25', 80 ],\n",
    "    [6, 342, '2021-5-30', 75 ]]\n",
    "\n",
    "orders = spark.createDataFrame(o_list, [\"id\", \"cust_id\", \"date\",\"order_cost\"])\n",
    "orders.show()\n",
    "orders.printSchema()"
   ]
  },
  {
   "cell_type": "markdown",
   "id": "sustained-charter",
   "metadata": {},
   "source": [
    "#### View Data"
   ]
  },
  {
   "cell_type": "code",
   "execution_count": 9,
   "id": "premier-pittsburgh",
   "metadata": {},
   "outputs": [
    {
     "name": "stdout",
     "output_type": "stream",
     "text": [
      "+---------+----------+\n",
      "|     date|order_cost|\n",
      "+---------+----------+\n",
      "|2021-5-10|       250|\n",
      "|2021-5-14|       100|\n",
      "|2021-5-23|        50|\n",
      "|2021-5-25|        80|\n",
      "|2021-5-30|        75|\n",
      "+---------+----------+\n",
      "\n"
     ]
    }
   ],
   "source": [
    "#view a subset of data using select()\n",
    "orders.select('date', 'order_cost').show()"
   ]
  },
  {
   "cell_type": "markdown",
   "id": "greater-queen",
   "metadata": {},
   "source": [
    "#### Clean data\n"
   ]
  },
  {
   "cell_type": "code",
   "execution_count": 10,
   "id": "declared-jefferson",
   "metadata": {},
   "outputs": [
    {
     "name": "stdout",
     "output_type": "stream",
     "text": [
      "+-------+----------+---------+----------+\n",
      "|cust_id|first_name|last_name|      city|\n",
      "+-------+----------+---------+----------+\n",
      "|    342|      Emma|   Clarke|   Watford|\n",
      "|    567|     James|   Thomas|    Durham|\n",
      "|     23|   Gregson|    White|  Lampeter|\n",
      "|     45|    Hannah|Abernathy|Colchester|\n",
      "+-------+----------+---------+----------+\n",
      "\n",
      "+--------+-------+---------+----------+\n",
      "|order_id|cust_id|     date|order_cost|\n",
      "+--------+-------+---------+----------+\n",
      "|       2|    567|2021-5-10|       250|\n",
      "|       3|    567|2021-5-14|       100|\n",
      "|       4|     23|2021-5-23|        50|\n",
      "|       5|     45|2021-5-25|        80|\n",
      "|       6|    342|2021-5-30|        75|\n",
      "+--------+-------+---------+----------+\n",
      "\n"
     ]
    }
   ],
   "source": [
    "#rename id columns of both tables\n",
    "customers = customers.withColumnRenamed('id','cust_id')\n",
    "customers.show()\n",
    "\n",
    "orders = orders.withColumnRenamed('id','order_id')\n",
    "orders.show()"
   ]
  },
  {
   "cell_type": "code",
   "execution_count": 11,
   "id": "beginning-tiffany",
   "metadata": {},
   "outputs": [
    {
     "name": "stdout",
     "output_type": "stream",
     "text": [
      "root\n",
      " |-- order_id: integer (nullable = true)\n",
      " |-- cust_id: long (nullable = true)\n",
      " |-- date: string (nullable = true)\n",
      " |-- order_cost: long (nullable = true)\n",
      "\n"
     ]
    }
   ],
   "source": [
    "#change the data type of columns\n",
    "\n",
    "orders = orders.withColumn(\"order_id\",orders['order_id'].cast(\"Integer\"))\n",
    "orders.printSchema()"
   ]
  },
  {
   "cell_type": "markdown",
   "id": "sharp-lemon",
   "metadata": {},
   "source": [
    "#### Find all customer details "
   ]
  },
  {
   "cell_type": "code",
   "execution_count": 12,
   "id": "efficient-warrant",
   "metadata": {},
   "outputs": [
    {
     "name": "stdout",
     "output_type": "stream",
     "text": [
      "+-------+----------+---------+----------+--------+---------+----------+\n",
      "|cust_id|first_name|last_name|      city|order_id|     date|order_cost|\n",
      "+-------+----------+---------+----------+--------+---------+----------+\n",
      "|     45|    Hannah|Abernathy|Colchester|       5|2021-5-25|        80|\n",
      "|    342|      Emma|   Clarke|   Watford|       6|2021-5-30|        75|\n",
      "|    567|     James|   Thomas|    Durham|       2|2021-5-10|       250|\n",
      "|    567|     James|   Thomas|    Durham|       3|2021-5-14|       100|\n",
      "|     23|   Gregson|    White|  Lampeter|       4|2021-5-23|        50|\n",
      "+-------+----------+---------+----------+--------+---------+----------+\n",
      "\n"
     ]
    }
   ],
   "source": [
    "#use join on customer id to combine records from both tables\n",
    "#sort records based on the customer's first name in ascending order\n",
    "\n",
    "customer_details= customers.join(orders, on = 'cust_id', how='inner').sort(asc(\"last_name\"))\n",
    "customer_details.show()"
   ]
  },
  {
   "cell_type": "markdown",
   "id": "widespread-opera",
   "metadata": {},
   "source": [
    "#### Find Total Cost Of Orders"
   ]
  },
  {
   "cell_type": "markdown",
   "id": "relevant-applicant",
   "metadata": {},
   "source": [
    "- join() - combine two DataFrames\n",
    "- groupBy() - group the data and allows to perform aggregate functions on the grouped data\n",
    "- orderBy() - sort dataframe based on a specific column values"
   ]
  },
  {
   "cell_type": "code",
   "execution_count": 31,
   "id": "express-repeat",
   "metadata": {},
   "outputs": [
    {
     "name": "stdout",
     "output_type": "stream",
     "text": [
      "+-------+----------+---------------+\n",
      "|cust_id|first_name|sum(order_cost)|\n",
      "+-------+----------+---------------+\n",
      "|    342|      Emma|             75|\n",
      "|     23|   Gregson|             50|\n",
      "|     45|    Hannah|             80|\n",
      "|    567|     James|            350|\n",
      "+-------+----------+---------------+\n",
      "\n"
     ]
    }
   ],
   "source": [
    "#use sum() to find the total cost\n",
    "#use  on customer id to combine records from both tables\n",
    "#group records by the customer's first name\n",
    "\n",
    "total_order_cost = customers.join(orders,\"cust_id\").groupby('cust_id','first_name').agg(\n",
    "    sum('order_cost')).orderBy(\"first_name\", ascending=True)\n",
    "total_order_cost.show()"
   ]
  },
  {
   "cell_type": "markdown",
   "id": "spiritual-dictionary",
   "metadata": {},
   "source": [
    "#### Find the details of the customers who made purchases higher than 100"
   ]
  },
  {
   "cell_type": "markdown",
   "id": "tracked-cotton",
   "metadata": {},
   "source": [
    "- when() - view the output based on the particular condition"
   ]
  },
  {
   "cell_type": "code",
   "execution_count": 46,
   "id": "running-disposition",
   "metadata": {},
   "outputs": [
    {
     "name": "stdout",
     "output_type": "stream",
     "text": [
      "+-------+----------+---------+----------+--------+---------+----------+-----------------------------------------------------+\n",
      "|cust_id|first_name|last_name|      city|order_id|     date|order_cost|CASE WHEN (order_cost > 100) THEN high_order_cost END|\n",
      "+-------+----------+---------+----------+--------+---------+----------+-----------------------------------------------------+\n",
      "|     45|    Hannah|Abernathy|Colchester|       5|2021-5-25|        80|                                                 null|\n",
      "|    342|      Emma|   Clarke|   Watford|       6|2021-5-30|        75|                                                 null|\n",
      "|    567|     James|   Thomas|    Durham|       2|2021-5-10|       250|                                      high_order_cost|\n",
      "|    567|     James|   Thomas|    Durham|       3|2021-5-14|       100|                                                 null|\n",
      "|     23|   Gregson|    White|  Lampeter|       4|2021-5-23|        50|                                                 null|\n",
      "+-------+----------+---------+----------+--------+---------+----------+-----------------------------------------------------+\n",
      "\n"
     ]
    }
   ],
   "source": [
    "customer_details.select('cust_id','first_name','last_name','city','order_id','date','order_cost',\n",
    "                        when(customer_details.order_cost > 100, 'high_order_cost'),).show()"
   ]
  },
  {
   "cell_type": "code",
   "execution_count": null,
   "id": "elder-capture",
   "metadata": {},
   "outputs": [],
   "source": []
  }
 ],
 "metadata": {
  "kernelspec": {
   "display_name": "Python 3",
   "language": "python",
   "name": "python3"
  },
  "language_info": {
   "codemirror_mode": {
    "name": "ipython",
    "version": 3
   },
   "file_extension": ".py",
   "mimetype": "text/x-python",
   "name": "python",
   "nbconvert_exporter": "python",
   "pygments_lexer": "ipython3",
   "version": "3.8.5"
  }
 },
 "nbformat": 4,
 "nbformat_minor": 5
}
