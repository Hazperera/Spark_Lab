{
 "cells": [
  {
   "cell_type": "markdown",
   "id": "crucial-humor",
   "metadata": {},
   "source": [
    "### PySpark made simple\n",
    "\n",
    "Spark is a data analytics framework created by a group of scientists at UC Berkeley, which is predominantly used for a bigdata processing. <br> PySpark is the Python API for Spark created for using Python along with Spark."
   ]
  },
  {
   "cell_type": "markdown",
   "id": "virtual-might",
   "metadata": {},
   "source": [
    "#### Setup environment"
   ]
  },
  {
   "cell_type": "code",
   "execution_count": 1,
   "id": "wanted-finance",
   "metadata": {},
   "outputs": [
    {
     "name": "stdout",
     "output_type": "stream",
     "text": [
      "Requirement already satisfied: pyspark in /Users/hasaniperera/opt/anaconda3/lib/python3.8/site-packages (3.2.1)\n",
      "Requirement already satisfied: py4j==0.10.9.3 in /Users/hasaniperera/opt/anaconda3/lib/python3.8/site-packages (from pyspark) (0.10.9.3)\n"
     ]
    }
   ],
   "source": [
    "#install pyspark\n",
    "!pip install pyspark\n"
   ]
  },
  {
   "cell_type": "code",
   "execution_count": 2,
   "id": "cleared-confirmation",
   "metadata": {},
   "outputs": [],
   "source": [
    "#import pyspark\n",
    "import pyspark\n",
    "\n",
    "#import sparksession\n",
    "from pyspark.sql import SparkSession"
   ]
  },
  {
   "cell_type": "code",
   "execution_count": 3,
   "id": "identical-survival",
   "metadata": {},
   "outputs": [],
   "source": [
    "#import necessary libraries\n",
    "from pyspark.sql.functions import *\n",
    "from pyspark.sql.types import StructField,StructType,TimestampType"
   ]
  },
  {
   "cell_type": "code",
   "execution_count": 4,
   "id": "minus-tamil",
   "metadata": {},
   "outputs": [],
   "source": [
    "#create SparkSession and provide appName\n",
    "spark = SparkSession.builder.appName(\"pysparkbasics\").getOrCreate() "
   ]
  },
  {
   "cell_type": "markdown",
   "id": "figured-exchange",
   "metadata": {},
   "source": [
    "#### Create Dataframes using createDataFrame()"
   ]
  },
  {
   "cell_type": "code",
   "execution_count": 5,
   "id": "fewer-finger",
   "metadata": {},
   "outputs": [],
   "source": [
    "#customers dataframe\n",
    "c_list = [\n",
    "    [342,\"Emma\", \"Clarke\",\"Watford\"],\n",
    "    [567,\"James\", \"Thomas\",\"Durham\"],\n",
    "    [23,\"Gregson\",\"White\",\"Lampeter\"],\n",
    "    [45,\"Hannah\",\"Abernathy\",\"Colchester\"],]\n",
    "\n",
    "customers = spark.createDataFrame(c_list, [\"id\", \"first_name\", \"last_name\",\"city\"])"
   ]
  },
  {
   "cell_type": "code",
   "execution_count": 6,
   "id": "vertical-guard",
   "metadata": {},
   "outputs": [
    {
     "name": "stdout",
     "output_type": "stream",
     "text": [
      "+---+----------+---------+----------+\n",
      "| id|first_name|last_name|      city|\n",
      "+---+----------+---------+----------+\n",
      "|342|      Emma|   Clarke|   Watford|\n",
      "|567|     James|   Thomas|    Durham|\n",
      "| 23|   Gregson|    White|  Lampeter|\n",
      "| 45|    Hannah|Abernathy|Colchester|\n",
      "+---+----------+---------+----------+\n",
      "\n"
     ]
    }
   ],
   "source": [
    "#show the top rows\n",
    "customers.show()"
   ]
  },
  {
   "cell_type": "code",
   "execution_count": 7,
   "id": "swiss-diversity",
   "metadata": {},
   "outputs": [
    {
     "name": "stdout",
     "output_type": "stream",
     "text": [
      "root\n",
      " |-- id: long (nullable = true)\n",
      " |-- first_name: string (nullable = true)\n",
      " |-- last_name: string (nullable = true)\n",
      " |-- city: string (nullable = true)\n",
      "\n"
     ]
    }
   ],
   "source": [
    "#show schema\n",
    "customers.printSchema()"
   ]
  },
  {
   "cell_type": "code",
   "execution_count": 8,
   "id": "framed-pharmacy",
   "metadata": {},
   "outputs": [
    {
     "name": "stdout",
     "output_type": "stream",
     "text": [
      "+---+-------+---------+----------+\n",
      "| id|cust_id|     date|order_cost|\n",
      "+---+-------+---------+----------+\n",
      "|  2|    567|2021-5-10|       250|\n",
      "|  3|    567|2021-5-14|       100|\n",
      "|  4|     23|2021-5-23|        50|\n",
      "|  5|     45|2021-5-25|        80|\n",
      "|  6|    342|2021-5-30|        75|\n",
      "+---+-------+---------+----------+\n",
      "\n",
      "root\n",
      " |-- id: long (nullable = true)\n",
      " |-- cust_id: long (nullable = true)\n",
      " |-- date: string (nullable = true)\n",
      " |-- order_cost: long (nullable = true)\n",
      "\n"
     ]
    }
   ],
   "source": [
    "#orders dataframe\n",
    "o_list = [\n",
    "    [2, 567, '2021-5-10', 250 ],\n",
    "    [3, 567, '2021-5-14', 100 ],\n",
    "    [4, 23, '2021-5-23', 50 ],\n",
    "    [5, 45, '2021-5-25', 80 ],\n",
    "    [6, 342, '2021-5-30', 75 ]]\n",
    "\n",
    "orders = spark.createDataFrame(o_list, [\"id\", \"cust_id\", \"date\",\"order_cost\"])\n",
    "orders.show()\n",
    "orders.printSchema()"
   ]
  },
  {
   "cell_type": "markdown",
   "id": "collective-medication",
   "metadata": {},
   "source": [
    "#### View Data using select()"
   ]
  },
  {
   "cell_type": "code",
   "execution_count": 119,
   "id": "dried-package",
   "metadata": {},
   "outputs": [
    {
     "name": "stdout",
     "output_type": "stream",
     "text": [
      "+---------+----------+\n",
      "|     date|order_cost|\n",
      "+---------+----------+\n",
      "|2021-5-10|       250|\n",
      "|2021-5-14|       100|\n",
      "|2021-5-23|        50|\n",
      "|2021-5-25|        80|\n",
      "|2021-5-30|        75|\n",
      "+---------+----------+\n",
      "\n"
     ]
    }
   ],
   "source": [
    "#select columns by name\n",
    "orders.select('date', 'order_cost').show()"
   ]
  },
  {
   "cell_type": "code",
   "execution_count": 127,
   "id": "equivalent-confidence",
   "metadata": {},
   "outputs": [
    {
     "name": "stdout",
     "output_type": "stream",
     "text": [
      "+---------+----------+\n",
      "|     date|order_cost|\n",
      "+---------+----------+\n",
      "|2021-5-10|       250|\n",
      "|2021-5-14|       100|\n",
      "|2021-5-23|        50|\n",
      "|2021-5-25|        80|\n",
      "|2021-5-30|        75|\n",
      "+---------+----------+\n",
      "\n"
     ]
    }
   ],
   "source": [
    "#select columns using col function\n",
    "orders.select(col(\"date\"),col(\"order_cost\")).show()"
   ]
  },
  {
   "cell_type": "code",
   "execution_count": 128,
   "id": "practical-specific",
   "metadata": {},
   "outputs": [
    {
     "name": "stdout",
     "output_type": "stream",
     "text": [
      "+---------+----------+\n",
      "|     date|order_cost|\n",
      "+---------+----------+\n",
      "|2021-5-10|       250|\n",
      "|2021-5-14|       100|\n",
      "|2021-5-23|        50|\n",
      "|2021-5-25|        80|\n",
      "|2021-5-30|        75|\n",
      "+---------+----------+\n",
      "\n"
     ]
    }
   ],
   "source": [
    "#select columns by index\n",
    "orders.select(orders.columns[2:4]).show()  "
   ]
  },
  {
   "cell_type": "code",
   "execution_count": 122,
   "id": "sweet-provider",
   "metadata": {},
   "outputs": [
    {
     "name": "stdout",
     "output_type": "stream",
     "text": [
      "+--------+-------+---------+----------+\n",
      "|order_id|cust_id|     date|order_cost|\n",
      "+--------+-------+---------+----------+\n",
      "|       2|    567|2021-5-10|       250|\n",
      "|       3|    567|2021-5-14|       100|\n",
      "|       4|     23|2021-5-23|        50|\n",
      "|       5|     45|2021-5-25|        80|\n",
      "|       6|    342|2021-5-30|        75|\n",
      "+--------+-------+---------+----------+\n",
      "\n"
     ]
    }
   ],
   "source": [
    "#select all columns from list\n",
    "list = orders.columns\n",
    "orders.select(*list).show()  "
   ]
  },
  {
   "cell_type": "code",
   "execution_count": 125,
   "id": "sacred-buddy",
   "metadata": {},
   "outputs": [
    {
     "name": "stdout",
     "output_type": "stream",
     "text": [
      "+---------+\n",
      "|date     |\n",
      "+---------+\n",
      "|2021-5-10|\n",
      "|2021-5-14|\n",
      "|2021-5-23|\n",
      "|2021-5-25|\n",
      "|2021-5-30|\n",
      "+---------+\n",
      "\n"
     ]
    }
   ],
   "source": [
    "#select StructType columns (nested struct) \n",
    "#assume that \"date\" column is StructType\n",
    "orders.select(\"date\").show(truncate=False)"
   ]
  },
  {
   "cell_type": "markdown",
   "id": "coastal-polish",
   "metadata": {},
   "source": [
    "### Clean data\n",
    "#### Rename columns using withColumnRenamed()"
   ]
  },
  {
   "cell_type": "code",
   "execution_count": 10,
   "id": "graphic-earthquake",
   "metadata": {},
   "outputs": [
    {
     "name": "stdout",
     "output_type": "stream",
     "text": [
      "+-------+----------+---------+----------+\n",
      "|cust_id|first_name|last_name|      city|\n",
      "+-------+----------+---------+----------+\n",
      "|    342|      Emma|   Clarke|   Watford|\n",
      "|    567|     James|   Thomas|    Durham|\n",
      "|     23|   Gregson|    White|  Lampeter|\n",
      "|     45|    Hannah|Abernathy|Colchester|\n",
      "+-------+----------+---------+----------+\n",
      "\n",
      "+--------+-------+---------+----------+\n",
      "|order_id|cust_id|     date|order_cost|\n",
      "+--------+-------+---------+----------+\n",
      "|       2|    567|2021-5-10|       250|\n",
      "|       3|    567|2021-5-14|       100|\n",
      "|       4|     23|2021-5-23|        50|\n",
      "|       5|     45|2021-5-25|        80|\n",
      "|       6|    342|2021-5-30|        75|\n",
      "+--------+-------+---------+----------+\n",
      "\n"
     ]
    }
   ],
   "source": [
    "#rename id columns of both tables\n",
    "customers = customers.withColumnRenamed('id','cust_id')\n",
    "customers.show()\n",
    "\n",
    "orders = orders.withColumnRenamed('id','order_id')\n",
    "orders.show()"
   ]
  },
  {
   "cell_type": "code",
   "execution_count": 11,
   "id": "dense-puzzle",
   "metadata": {},
   "outputs": [
    {
     "name": "stdout",
     "output_type": "stream",
     "text": [
      "root\n",
      " |-- order_id: integer (nullable = true)\n",
      " |-- cust_id: long (nullable = true)\n",
      " |-- date: string (nullable = true)\n",
      " |-- order_cost: long (nullable = true)\n",
      "\n"
     ]
    }
   ],
   "source": [
    "#change the data type of columns\n",
    "\n",
    "orders = orders.withColumn(\"order_id\",orders['order_id'].cast(\"Integer\"))\n",
    "orders.printSchema()"
   ]
  },
  {
   "cell_type": "markdown",
   "id": "specified-train",
   "metadata": {},
   "source": [
    "#### Find all customer details "
   ]
  },
  {
   "cell_type": "code",
   "execution_count": 12,
   "id": "moved-blowing",
   "metadata": {},
   "outputs": [
    {
     "name": "stdout",
     "output_type": "stream",
     "text": [
      "+-------+----------+---------+----------+--------+---------+----------+\n",
      "|cust_id|first_name|last_name|      city|order_id|     date|order_cost|\n",
      "+-------+----------+---------+----------+--------+---------+----------+\n",
      "|     45|    Hannah|Abernathy|Colchester|       5|2021-5-25|        80|\n",
      "|    342|      Emma|   Clarke|   Watford|       6|2021-5-30|        75|\n",
      "|    567|     James|   Thomas|    Durham|       2|2021-5-10|       250|\n",
      "|    567|     James|   Thomas|    Durham|       3|2021-5-14|       100|\n",
      "|     23|   Gregson|    White|  Lampeter|       4|2021-5-23|        50|\n",
      "+-------+----------+---------+----------+--------+---------+----------+\n",
      "\n"
     ]
    }
   ],
   "source": [
    "#use join on customer id to combine records from both tables\n",
    "#sort records based on the customer's first name in ascending order\n",
    "\n",
    "customer_details= customers.join(orders, on = 'cust_id', how='inner').sort(asc(\"last_name\"))\n",
    "customer_details.show()"
   ]
  },
  {
   "cell_type": "markdown",
   "id": "governmental-influence",
   "metadata": {},
   "source": [
    "#### Find unique customer details (no duplicates) - distinct()"
   ]
  },
  {
   "cell_type": "code",
   "execution_count": 102,
   "id": "concerned-thong",
   "metadata": {},
   "outputs": [
    {
     "data": {
      "text/plain": [
       "['cust_id',\n",
       " 'first_name',\n",
       " 'last_name',\n",
       " 'city',\n",
       " 'order_id',\n",
       " 'date',\n",
       " 'order_cost']"
      ]
     },
     "execution_count": 102,
     "metadata": {},
     "output_type": "execute_result"
    }
   ],
   "source": [
    "#columns list object\n",
    "cols=customer_details.columns\n",
    "cols"
   ]
  },
  {
   "cell_type": "code",
   "execution_count": 107,
   "id": "useful-collar",
   "metadata": {},
   "outputs": [
    {
     "name": "stdout",
     "output_type": "stream",
     "text": [
      "+-------+----------+---------+----------+--------+---------+----------+\n",
      "|cust_id|first_name|last_name|      city|order_id|     date|order_cost|\n",
      "+-------+----------+---------+----------+--------+---------+----------+\n",
      "|     23|   Gregson|    White|  Lampeter|       4|2021-5-23|        50|\n",
      "|     45|    Hannah|Abernathy|Colchester|       5|2021-5-25|        80|\n",
      "|    342|      Emma|   Clarke|   Watford|       6|2021-5-30|        75|\n",
      "|    567|     James|   Thomas|    Durham|       2|2021-5-10|       250|\n",
      "|    567|     James|   Thomas|    Durham|       3|2021-5-14|       100|\n",
      "+-------+----------+---------+----------+--------+---------+----------+\n",
      "\n"
     ]
    }
   ],
   "source": [
    "#select all columns using columns list object\n",
    "#use distinct() to avoid duplicates rows\n",
    "answer = customer_details.select(*cols).distinct().show()"
   ]
  },
  {
   "cell_type": "markdown",
   "id": "vulnerable-guess",
   "metadata": {},
   "source": [
    "#### Find Total Cost Of Orders"
   ]
  },
  {
   "cell_type": "markdown",
   "id": "national-local",
   "metadata": {},
   "source": [
    "- join() - combine two DataFrames\n",
    "- groupBy() - group the data and allows to perform aggregate functions on the grouped data\n",
    "- orderBy() - sort dataframe based on a specific column values"
   ]
  },
  {
   "cell_type": "code",
   "execution_count": 13,
   "id": "british-excitement",
   "metadata": {},
   "outputs": [
    {
     "name": "stdout",
     "output_type": "stream",
     "text": [
      "+-------+----------+---------------+\n",
      "|cust_id|first_name|sum(order_cost)|\n",
      "+-------+----------+---------------+\n",
      "|    342|      Emma|             75|\n",
      "|     23|   Gregson|             50|\n",
      "|     45|    Hannah|             80|\n",
      "|    567|     James|            350|\n",
      "+-------+----------+---------------+\n",
      "\n"
     ]
    }
   ],
   "source": [
    "#use sum() to find the total cost\n",
    "#use  on customer id to combine records from both tables\n",
    "#group records by the customer's first name\n",
    "\n",
    "total_order_cost = customers.join(orders,\"cust_id\").groupby('cust_id','first_name').agg(\n",
    "    sum('order_cost')).orderBy(\"first_name\", ascending=True)\n",
    "total_order_cost.show()"
   ]
  },
  {
   "cell_type": "markdown",
   "id": "alike-incidence",
   "metadata": {},
   "source": [
    "#### Find the details of the customers who made purchases higher than 100\n",
    "- when() - view the output based on the particular condition"
   ]
  },
  {
   "cell_type": "code",
   "execution_count": 142,
   "id": "configured-salem",
   "metadata": {},
   "outputs": [
    {
     "name": "stdout",
     "output_type": "stream",
     "text": [
      "+-------+----------+---------+----------+--------+---------+----------+-----------------------------------------------------+\n",
      "|cust_id|first_name|last_name|      city|order_id|     date|order_cost|CASE WHEN (order_cost > 100) THEN high_order_cost END|\n",
      "+-------+----------+---------+----------+--------+---------+----------+-----------------------------------------------------+\n",
      "|     45|    Hannah|Abernathy|Colchester|       5|2021-5-25|        80|                                                 null|\n",
      "|    342|      Emma|   Clarke|   Watford|       6|2021-5-30|        75|                                                 null|\n",
      "|    567|     James|   Thomas|    Durham|       2|2021-5-10|       250|                                      high_order_cost|\n",
      "|    567|     James|   Thomas|    Durham|       3|2021-5-14|       100|                                                 null|\n",
      "|     23|   Gregson|    White|  Lampeter|       4|2021-5-23|        50|                                                 null|\n",
      "+-------+----------+---------+----------+--------+---------+----------+-----------------------------------------------------+\n",
      "\n"
     ]
    }
   ],
   "source": [
    "customer_details.select('cust_id','first_name','last_name','city','order_id','date','order_cost',\n",
    "                        when(customer_details.order_cost > 100, 'high_order_cost'),).show()"
   ]
  },
  {
   "cell_type": "markdown",
   "id": "joint-violin",
   "metadata": {},
   "source": [
    "#### Find the customer who has purchased the lowest\n",
    "- max() - an aggregate function that returns the minimum value of the expression in a group"
   ]
  },
  {
   "cell_type": "code",
   "execution_count": 68,
   "id": "intellectual-bloom",
   "metadata": {},
   "outputs": [
    {
     "data": {
      "text/plain": [
       "Row(min(order_cost)=50)"
      ]
     },
     "execution_count": 68,
     "metadata": {},
     "output_type": "execute_result"
    }
   ],
   "source": [
    "# accessing the minimum value for a particular column of a dataframe \n",
    "\n",
    "customer_details.agg({'order_cost':'min'}).collect()[0]"
   ]
  },
  {
   "cell_type": "code",
   "execution_count": 69,
   "id": "radical-montreal",
   "metadata": {},
   "outputs": [
    {
     "data": {
      "text/plain": [
       "50"
      ]
     },
     "execution_count": 69,
     "metadata": {},
     "output_type": "execute_result"
    }
   ],
   "source": [
    "customer_details.select(min(col(\"order_cost\")).alias(\"MIN\")).limit(1).collect()[0].MIN"
   ]
  },
  {
   "cell_type": "code",
   "execution_count": 70,
   "id": "victorian-responsibility",
   "metadata": {},
   "outputs": [
    {
     "data": {
      "text/plain": [
       "50"
      ]
     },
     "execution_count": 70,
     "metadata": {},
     "output_type": "execute_result"
    }
   ],
   "source": [
    "customer_details.agg({\"order_cost\": \"min\"}).head()[0]"
   ]
  },
  {
   "cell_type": "code",
   "execution_count": 71,
   "id": "under-garlic",
   "metadata": {},
   "outputs": [
    {
     "name": "stdout",
     "output_type": "stream",
     "text": [
      "+---------------+\n",
      "|min(order_cost)|\n",
      "+---------------+\n",
      "|             50|\n",
      "+---------------+\n",
      "\n"
     ]
    }
   ],
   "source": [
    "customer_details.select([min(\"order_cost\")]).show()"
   ]
  },
  {
   "cell_type": "code",
   "execution_count": 72,
   "id": "given-overview",
   "metadata": {},
   "outputs": [
    {
     "data": {
      "text/plain": [
       "50"
      ]
     },
     "execution_count": 72,
     "metadata": {},
     "output_type": "execute_result"
    }
   ],
   "source": [
    "customer_details.agg({\"order_cost\": \"min\"}).first()[0]"
   ]
  },
  {
   "cell_type": "code",
   "execution_count": 83,
   "id": "incorrect-rwanda",
   "metadata": {},
   "outputs": [
    {
     "name": "stdout",
     "output_type": "stream",
     "text": [
      "+-------+----------+---------+------------------+\n",
      "|cust_id|first_name|last_name|minimum order cost|\n",
      "+-------+----------+---------+------------------+\n",
      "|     23|   Gregson|    White|                50|\n",
      "+-------+----------+---------+------------------+\n",
      "only showing top 1 row\n",
      "\n"
     ]
    }
   ],
   "source": [
    "# access customer id, first name along with the minimum cost\n",
    "\n",
    "customer_details.groupby(\"cust_id\", \"first_name\",\"last_name\").agg(\n",
    "    min(\"order_cost\").alias(\"minimum order cost\")).show(1)"
   ]
  },
  {
   "cell_type": "markdown",
   "id": "liquid-baseline",
   "metadata": {},
   "source": [
    "#### Find the top customers who are responsible for multiple orders \n",
    "\n",
    "-distinct() - find unique values of a column <br>\n",
    "-dropDuplicates() - remove duplicate values of a column<br>\n",
    "-orderby() - order the values in a column "
   ]
  },
  {
   "cell_type": "code",
   "execution_count": 157,
   "id": "developmental-beast",
   "metadata": {},
   "outputs": [
    {
     "name": "stdout",
     "output_type": "stream",
     "text": [
      "+----------+--------+\n",
      "|first_name|order_id|\n",
      "+----------+--------+\n",
      "|    Hannah|       5|\n",
      "|      Emma|       6|\n",
      "|     James|       2|\n",
      "|   Gregson|       4|\n",
      "+----------+--------+\n",
      "\n"
     ]
    }
   ],
   "source": [
    "#find unique names of customers and their order ids\n",
    "\n",
    "customer_details.dropDuplicates((['first_name','last_name'])).select(\n",
    "    \"first_name\",\"order_id\").show()"
   ]
  },
  {
   "cell_type": "code",
   "execution_count": 158,
   "id": "vertical-junior",
   "metadata": {},
   "outputs": [
    {
     "name": "stdout",
     "output_type": "stream",
     "text": [
      "+----------+\n",
      "|first_name|\n",
      "+----------+\n",
      "|      Emma|\n",
      "|   Gregson|\n",
      "|    Hannah|\n",
      "|     James|\n",
      "+----------+\n",
      "\n"
     ]
    }
   ],
   "source": [
    "#find unique names of customers - distinct()\n",
    "\n",
    "customer_details.select('first_name').distinct(\n",
    ").orderBy(\"first_name\", ascending=True).show()"
   ]
  },
  {
   "cell_type": "code",
   "execution_count": 162,
   "id": "cosmetic-corporation",
   "metadata": {},
   "outputs": [
    {
     "name": "stdout",
     "output_type": "stream",
     "text": [
      "+----------+\n",
      "|first_name|\n",
      "+----------+\n",
      "|      Emma|\n",
      "|   Gregson|\n",
      "|    Hannah|\n",
      "|     James|\n",
      "+----------+\n",
      "\n"
     ]
    }
   ],
   "source": [
    "#find unique names of customers and order the values - dropDuplicates()\n",
    "\n",
    "customer_details.dropDuplicates((['first_name'])).select(\"first_name\").orderBy(\n",
    "    \"first_name\", ascending=True).show()"
   ]
  },
  {
   "cell_type": "code",
   "execution_count": 148,
   "id": "contained-arthritis",
   "metadata": {},
   "outputs": [
    {
     "name": "stdout",
     "output_type": "stream",
     "text": [
      "+----------+---------+\n",
      "|first_name|last_name|\n",
      "+----------+---------+\n",
      "|      Emma|   Clarke|\n",
      "|   Gregson|    White|\n",
      "|    Hannah|Abernathy|\n",
      "|     James|   Thomas|\n",
      "+----------+---------+\n",
      "\n"
     ]
    }
   ],
   "source": [
    "#find unique values based on multiple columns and order the values- distinct()\n",
    "\n",
    "customer_details.select('first_name','last_name').distinct().orderBy(\n",
    "    'first_name', ascending=True).show()"
   ]
  },
  {
   "cell_type": "code",
   "execution_count": null,
   "id": "attempted-toolbox",
   "metadata": {},
   "outputs": [],
   "source": []
  },
  {
   "cell_type": "code",
   "execution_count": null,
   "id": "constitutional-resident",
   "metadata": {},
   "outputs": [],
   "source": []
  },
  {
   "cell_type": "code",
   "execution_count": null,
   "id": "gothic-chaos",
   "metadata": {},
   "outputs": [],
   "source": []
  }
 ],
 "metadata": {
  "kernelspec": {
   "display_name": "Python 3",
   "language": "python",
   "name": "python3"
  },
  "language_info": {
   "codemirror_mode": {
    "name": "ipython",
    "version": 3
   },
   "file_extension": ".py",
   "mimetype": "text/x-python",
   "name": "python",
   "nbconvert_exporter": "python",
   "pygments_lexer": "ipython3",
   "version": "3.8.5"
  }
 },
 "nbformat": 4,
 "nbformat_minor": 5
}
